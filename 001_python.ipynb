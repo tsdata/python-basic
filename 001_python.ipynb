{
 "cells": [
  {
   "cell_type": "markdown",
   "metadata": {},
   "source": [
    "# 변수, 자료형, 기본 연산\n",
    "변수의 개념 이해, 기본 자료형(숫자, 문자열) 및 기본 연산자 사용법 학습\n"
   ]
  },
  {
   "cell_type": "code",
   "execution_count": null,
   "metadata": {},
   "outputs": [],
   "source": [
    "# 변수에 정수를 저장\n",
    "number = 10"
   ]
  },
  {
   "cell_type": "code",
   "execution_count": null,
   "metadata": {},
   "outputs": [],
   "source": [
    "# 변수 내용 출력\n",
    "number"
   ]
  },
  {
   "cell_type": "code",
   "execution_count": null,
   "metadata": {},
   "outputs": [],
   "source": [
    "# 변수 타입 출력\n",
    "type(number)"
   ]
  },
  {
   "cell_type": "code",
   "execution_count": null,
   "metadata": {},
   "outputs": [],
   "source": [
    "# 변수에 실수를 저장\n",
    "float_number = 10.2"
   ]
  },
  {
   "cell_type": "code",
   "execution_count": null,
   "metadata": {},
   "outputs": [],
   "source": [
    "# 변수 내용 출력\n",
    "float_number"
   ]
  },
  {
   "cell_type": "code",
   "execution_count": null,
   "metadata": {},
   "outputs": [],
   "source": [
    "# 변수 타입 출력\n",
    "type(float_number)"
   ]
  },
  {
   "cell_type": "code",
   "execution_count": null,
   "metadata": {},
   "outputs": [],
   "source": [
    "# 변수에 문자열 저장\n",
    "text = \"Hello, Python! \""
   ]
  },
  {
   "cell_type": "code",
   "execution_count": null,
   "metadata": {},
   "outputs": [],
   "source": [
    "# 변수 내용 출력\n",
    "print(text)"
   ]
  },
  {
   "cell_type": "code",
   "execution_count": null,
   "metadata": {},
   "outputs": [],
   "source": [
    "# 변수 타입 출력\n",
    "type(text)"
   ]
  },
  {
   "cell_type": "code",
   "execution_count": null,
   "metadata": {},
   "outputs": [],
   "source": [
    "# 기본 연산\n",
    "_sum = number + 5\n",
    "print(_sum) "
   ]
  },
  {
   "cell_type": "code",
   "execution_count": null,
   "metadata": {},
   "outputs": [],
   "source": [
    "# 문자열 연결\n",
    "print(text + \"How are you?\")  "
   ]
  },
  {
   "cell_type": "code",
   "execution_count": null,
   "metadata": {},
   "outputs": [],
   "source": [
    "# 문자열 곱하기\n",
    "print(text * 3)"
   ]
  },
  {
   "cell_type": "markdown",
   "metadata": {},
   "source": [
    "# 리스트와 튜플\n",
    "시퀀스 자료형인 리스트와 튜플의 기본 사용법 이해"
   ]
  },
  {
   "cell_type": "code",
   "execution_count": null,
   "metadata": {},
   "outputs": [],
   "source": [
    "# 리스트 생성\n",
    "my_list = [1, 2, 3, 4, 5]"
   ]
  },
  {
   "cell_type": "code",
   "execution_count": null,
   "metadata": {},
   "outputs": [],
   "source": [
    "# 리스트 내용 출력\n",
    "my_list"
   ]
  },
  {
   "cell_type": "code",
   "execution_count": null,
   "metadata": {},
   "outputs": [],
   "source": [
    "# 리스트 타입 출력\n",
    "type(my_list)"
   ]
  },
  {
   "cell_type": "code",
   "execution_count": null,
   "metadata": {},
   "outputs": [],
   "source": [
    "# 첫 번째 요소 접근\n",
    "my_list[0]"
   ]
  },
  {
   "cell_type": "code",
   "execution_count": null,
   "metadata": {},
   "outputs": [],
   "source": [
    "# 두 번째 요소 접근\n",
    "my_list[1]"
   ]
  },
  {
   "cell_type": "code",
   "execution_count": null,
   "metadata": {},
   "outputs": [],
   "source": [
    "# 마지막 요소 접근\n",
    "my_list[-1]"
   ]
  },
  {
   "cell_type": "code",
   "execution_count": null,
   "metadata": {},
   "outputs": [],
   "source": [
    "# 리스트 슬라이싱\n",
    "my_list[1:3]"
   ]
  },
  {
   "cell_type": "code",
   "execution_count": null,
   "metadata": {},
   "outputs": [],
   "source": [
    "# 리스트 길이\n",
    "len(my_list)"
   ]
  },
  {
   "cell_type": "code",
   "execution_count": null,
   "metadata": {},
   "outputs": [],
   "source": [
    "# 튜플\n",
    "my_tuple = (1, 2, 3, 4, 5)"
   ]
  },
  {
   "cell_type": "code",
   "execution_count": null,
   "metadata": {},
   "outputs": [],
   "source": [
    "# 튜플 타입 출력\n",
    "type(my_tuple)"
   ]
  },
  {
   "cell_type": "code",
   "execution_count": null,
   "metadata": {},
   "outputs": [],
   "source": [
    "# 튜플 길이\n",
    "len(my_tuple)"
   ]
  },
  {
   "cell_type": "code",
   "execution_count": null,
   "metadata": {},
   "outputs": [],
   "source": [
    " # 두 번째 요소 접근\n",
    "my_tuple[1]"
   ]
  },
  {
   "cell_type": "code",
   "execution_count": null,
   "metadata": {},
   "outputs": [],
   "source": [
    "# 튜플에 원소 추가\n",
    "my_tuple.append(6)"
   ]
  },
  {
   "cell_type": "code",
   "execution_count": null,
   "metadata": {},
   "outputs": [],
   "source": [
    "# 리스트에 원소 추가\n",
    "my_list.append(6)\n",
    "my_list"
   ]
  },
  {
   "cell_type": "markdown",
   "metadata": {},
   "source": [
    "# 딕셔너리\n",
    "키(key)-값(value) 쌍으로 데이터 저장 및 접근 방법 학습"
   ]
  },
  {
   "cell_type": "code",
   "execution_count": null,
   "metadata": {},
   "outputs": [],
   "source": [
    "# 딕셔너리 생성\n",
    "my_dict = {'name': 'John', 'age': 30, 'city': 'New York'}\n",
    "\n",
    "my_dict"
   ]
  },
  {
   "cell_type": "code",
   "execution_count": null,
   "metadata": {},
   "outputs": [],
   "source": [
    "# 딕셔너리 타입 출력\n",
    "type(my_dict)"
   ]
  },
  {
   "cell_type": "code",
   "execution_count": null,
   "metadata": {},
   "outputs": [],
   "source": [
    "# 딕셔너리 키로 값 접근\n",
    "my_dict['name']"
   ]
  },
  {
   "cell_type": "code",
   "execution_count": null,
   "metadata": {},
   "outputs": [],
   "source": [
    "# 딕셔너리 값 변경\n",
    "my_dict['age'] = 25\n",
    "\n",
    "my_dict"
   ]
  },
  {
   "cell_type": "code",
   "execution_count": null,
   "metadata": {},
   "outputs": [],
   "source": [
    "# 딕셔너리에 새로운 키와 값 추가\n",
    "my_dict['email'] = 'john@example.com'\n",
    "\n",
    "my_dict"
   ]
  },
  {
   "cell_type": "code",
   "execution_count": null,
   "metadata": {},
   "outputs": [],
   "source": [
    "# 딕셔너리에서 항목 제거\n",
    "del my_dict['city']  \n",
    "\n",
    "my_dict"
   ]
  },
  {
   "cell_type": "code",
   "execution_count": null,
   "metadata": {},
   "outputs": [],
   "source": [
    "# 딕셔너리의 키 배열\n",
    "my_dict.keys()"
   ]
  },
  {
   "cell_type": "code",
   "execution_count": null,
   "metadata": {},
   "outputs": [],
   "source": [
    "# 딕셔너리의 값 배열\n",
    "my_dict.values()"
   ]
  },
  {
   "cell_type": "code",
   "execution_count": null,
   "metadata": {},
   "outputs": [],
   "source": [
    "# 딕셔너리의 키와 값 배열\n",
    "my_dict.items()"
   ]
  },
  {
   "cell_type": "markdown",
   "metadata": {},
   "source": [
    "# 문자열 연산"
   ]
  },
  {
   "cell_type": "code",
   "execution_count": null,
   "metadata": {},
   "outputs": [],
   "source": [
    "# 문자열 슬라이싱\n",
    "text = \"Python programming\"\n",
    "print(text[0:6])  # 출력: Python\n",
    "print(text[-12:])  # 출력: programming"
   ]
  },
  {
   "cell_type": "code",
   "execution_count": null,
   "metadata": {},
   "outputs": [],
   "source": [
    "# 문자열 포맷팅\n",
    "age = 30\n",
    "name = \"Alice\"\n",
    "intro = \"My name is {} and I am {} years old.\".format(name, age)\n",
    "print(intro)  # 출력: My name is Alice and I am 30 years old."
   ]
  },
  {
   "cell_type": "code",
   "execution_count": null,
   "metadata": {},
   "outputs": [],
   "source": [
    "# f-string \n",
    "intro_f = f\"My name is {name} and I am {age} years old.\"\n",
    "print(intro_f)  # 출력: My name is Alice and I am 30 years old."
   ]
  },
  {
   "cell_type": "code",
   "execution_count": null,
   "metadata": {},
   "outputs": [],
   "source": [
    "# len(): 문자열의 길이를 반환\n",
    "message = \"Hello World\"\n",
    "print(len(message))  # 출력: 11"
   ]
  },
  {
   "cell_type": "code",
   "execution_count": null,
   "metadata": {},
   "outputs": [],
   "source": [
    "# upper(): 문자열을 대문자로 변환\n",
    "message = \"hello world\"\n",
    "print(message.upper())  # 출력: HELLO WORLD"
   ]
  },
  {
   "cell_type": "code",
   "execution_count": null,
   "metadata": {},
   "outputs": [],
   "source": [
    "# lower(): 문자열을 소문자로 변환\n",
    "message = \"HELLO WORLD\"\n",
    "print(message.lower())  # 출력: hello world"
   ]
  },
  {
   "cell_type": "code",
   "execution_count": null,
   "metadata": {},
   "outputs": [],
   "source": [
    "# strip(): 문자열 앞뒤의 공백을 제거\n",
    "message = \"  hello world  \"\n",
    "print(message.strip())  # 출력: hello world"
   ]
  },
  {
   "cell_type": "code",
   "execution_count": null,
   "metadata": {},
   "outputs": [],
   "source": [
    "# str.replace(old, new): 문자열의 old 문자열을 new 문자열로 교체\n",
    "message = \"hello world\"\n",
    "print(message.replace('world', 'Python'))  # 출력: hello Python"
   ]
  },
  {
   "cell_type": "code",
   "execution_count": null,
   "metadata": {},
   "outputs": [],
   "source": [
    "# str.split(sep=None): 문자열을 sep에 지정된 구분자로 분할하여 리스트를 반환합니다. sep이 지정되지 않으면 공백을 기준으로 분할합니다.\n",
    "message = \"hello world\"\n",
    "words = message.split()\n",
    "print(words)  # 출력: ['hello', 'world']"
   ]
  },
  {
   "cell_type": "code",
   "execution_count": null,
   "metadata": {},
   "outputs": [],
   "source": [
    "# str.join(iterable): iterable의 각 요소 사이에 문자열을 삽입하여 하나의 문자열로 결합\n",
    "words = ['Hello', 'World']\n",
    "print(' '.join(words))  # 출력: Hello World"
   ]
  },
  {
   "cell_type": "code",
   "execution_count": null,
   "metadata": {},
   "outputs": [],
   "source": [
    "# str.find(sub): 부분 문자열 sub이 처음으로 나타나는 위치를 반환합니다. 없으면 -1을 반환합니다.\n",
    "message = \"hello world\"\n",
    "print(message.find('world'))  # 출력: 6"
   ]
  },
  {
   "cell_type": "markdown",
   "metadata": {},
   "source": [
    "# 조건문\n",
    "조건문을 이용한 프로그램 흐름 제어 방법 학습"
   ]
  },
  {
   "cell_type": "code",
   "execution_count": null,
   "metadata": {},
   "outputs": [],
   "source": [
    "# 조건문 예제 1\n",
    "age = 20\n",
    "if age >= 18:\n",
    "    print(\"당신은 성인입니다.\")\n",
    "else:\n",
    "    print(\"당신은 미성년자입니다.\")"
   ]
  },
  {
   "cell_type": "code",
   "execution_count": null,
   "metadata": {},
   "outputs": [],
   "source": [
    "# 조건문 예제 2\n",
    "age = 15\n",
    "if age < 10:\n",
    "    print(\"당신은 어린이입니다.\")\n",
    "elif age < 20:\n",
    "    print(\"당신은 청소년입니다.\")\n",
    "else:\n",
    "    print(\"당신은 성인입니다.\")\n"
   ]
  },
  {
   "cell_type": "markdown",
   "metadata": {},
   "source": [
    "### 비교 연산자\n",
    "\n",
    "비교 연산자는 두 값을 비교하고 결과로 `True` 또는 `False`를 반환합니다. 파이썬에서 사용되는 주요 비교 연산자는 다음과 같습니다:\n",
    "\n",
    "- `==`: 같다\n",
    "- `!=`: 같지 않다\n",
    "- `>`: 크다\n",
    "- `<`: 작다\n",
    "- `>=`: 크거나 같다\n",
    "- `<=`: 작거나 같다"
   ]
  },
  {
   "cell_type": "code",
   "execution_count": null,
   "metadata": {},
   "outputs": [],
   "source": [
    "x = 10\n",
    "y = 12\n",
    "\n",
    "# 동등 비교\n",
    "print(x == y)  # False\n",
    "\n",
    "# 불동등 비교\n",
    "print(x != y)  # True\n",
    "\n",
    "# 크기 비교\n",
    "print(x > y)   # False\n",
    "print(x < y)   # True\n",
    "print(x >= 10) # True\n",
    "print(y <= 15) # True"
   ]
  },
  {
   "cell_type": "markdown",
   "metadata": {},
   "source": [
    "### 논리 연산자\n",
    "\n",
    "논리 연산자는 조건들을 결합할 때 사용합니다. 이 연산자들은 비교 연산자로부터의 결과를 기반으로 더 복잡한 조건을 평가할 수 있게 합니다. 주요 논리 연산자는 다음과 같습니다:\n",
    "\n",
    "- `and`: 두 조건이 모두 참일 때 True를 반환\n",
    "- `or`: 두 조건 중 하나라도 참이면 True를 반환\n",
    "- `not`: 조건의 반대를 반환 (조건이 참이면 False, 거짓이면 True를 반환)"
   ]
  },
  {
   "cell_type": "code",
   "execution_count": null,
   "metadata": {},
   "outputs": [],
   "source": [
    "x = 10\n",
    "y = 12\n",
    "\n",
    "# and 연산\n",
    "print(x < 15 and y > 11)  # True (x는 15보다 작고, y는 11보다 큽니다)\n",
    "\n",
    "# or 연산\n",
    "print(x < 9 or y > 11)    # True (x는 9보다 크지만, y는 11보다 큽니다)\n",
    "\n",
    "# not 연산\n",
    "print(not(x == y))        # True (x는 y와 같지 않으므로, not 연산 결과는 True입니다)"
   ]
  },
  {
   "cell_type": "markdown",
   "metadata": {},
   "source": [
    "### 부울 자료형(불리언, Boolean)\n",
    "True 또는 False라는 두 가지 값만을 가지는 데이터 타입입니다. 이 자료형은 조건문, 논리 연산, 흐름 제어 등에서 핵심적인 역할을 합니다."
   ]
  },
  {
   "cell_type": "code",
   "execution_count": null,
   "metadata": {},
   "outputs": [],
   "source": [
    "# 비교 연산의 결과\n",
    "is_equal = (10 == 10)  # True\n",
    "print(is_equal)\n",
    "\n",
    "# 논리 연산의 결과\n",
    "is_true = (7 > 3 and 2 <= 5)  # True\n",
    "print(is_true)\n",
    "\n",
    "# 조건문에서의 사용\n",
    "if is_true:\n",
    "    print(\"조건은 참입니다.\")\n",
    "else:\n",
    "    print(\"조건은 거짓입니다.\")"
   ]
  },
  {
   "cell_type": "markdown",
   "metadata": {},
   "source": [
    "# 반복문\n",
    "for문과 while문을 이용한 반복 제어 방법 이해"
   ]
  },
  {
   "cell_type": "code",
   "execution_count": null,
   "metadata": {},
   "outputs": [],
   "source": [
    "# for문 예제\n",
    "for i in [0, 1, 2, 3, 4]:\n",
    "    print(i)"
   ]
  },
  {
   "cell_type": "code",
   "execution_count": null,
   "metadata": {},
   "outputs": [],
   "source": [
    "# for문 예제\n",
    "for i in range(5):\n",
    "    print(i)  # 0부터 4까지 출력"
   ]
  },
  {
   "cell_type": "code",
   "execution_count": null,
   "metadata": {},
   "outputs": [],
   "source": [
    "# while문 예제\n",
    "count = 0\n",
    "while count < 5:\n",
    "    print(count)\n",
    "    count += 1\n"
   ]
  },
  {
   "cell_type": "code",
   "execution_count": null,
   "metadata": {},
   "outputs": [],
   "source": [
    "# continue 예제\n",
    "for i in range(5):\n",
    "    if i == 3:\n",
    "        continue\n",
    "    \n",
    "    print(i)"
   ]
  },
  {
   "cell_type": "code",
   "execution_count": null,
   "metadata": {},
   "outputs": [],
   "source": [
    "# break 예제\n",
    "for i in range(5):\n",
    "    if i == 3:\n",
    "        break\n",
    "    \n",
    "    print(i)"
   ]
  },
  {
   "cell_type": "markdown",
   "metadata": {},
   "source": [
    "# 리스트 컴프리헨션\n",
    "\n",
    "반복문과 조건문을 사용하여 리스트를 생성하는 전통적인 방법에 비해 코드의 가독성과 실행 속도를 향상시킵니다."
   ]
  },
  {
   "cell_type": "code",
   "execution_count": null,
   "metadata": {},
   "outputs": [],
   "source": [
    "# 간단한 리스트 컴프리헨션\n",
    "squares = [x**2 for x in range(10)]\n",
    "print(squares)  # 출력: [0, 1, 4, 9, 16, 25, 36, 49, 64, 81]"
   ]
  },
  {
   "cell_type": "code",
   "execution_count": null,
   "metadata": {},
   "outputs": [],
   "source": [
    "# 조건을 포함한 리스트 컴프리헨션\n",
    "even_squares = [x**2 for x in range(10) if x % 2 == 0]\n",
    "print(even_squares)  # 출력: [0, 4, 16, 36, 64]\n"
   ]
  },
  {
   "cell_type": "code",
   "execution_count": null,
   "metadata": {},
   "outputs": [],
   "source": [
    "# 중첩 반복문을 포함한 리스트 컴프리헨션\n",
    "pairs = [(x, y) for x in [1, 2, 3] for y in [3, 1, 4] if x != y]\n",
    "print(pairs)  # 출력: [(1, 3), (1, 4), (2, 3), (2, 1), (2, 4), (3, 1), (3, 4)]"
   ]
  },
  {
   "cell_type": "markdown",
   "metadata": {},
   "source": [
    "# 딕셔너리 컴프리헨션\n",
    "리스트 컴프리헨션과 유사하게 작동하며, 간단한 구문을 사용하여 새로운 딕셔너리를 만들 수 있습니다. "
   ]
  },
  {
   "cell_type": "code",
   "execution_count": null,
   "metadata": {},
   "outputs": [],
   "source": [
    "# 각 숫자를 그 숫자 자신으로 매핑하는 딕셔너리 생성\n",
    "numbers = {x: x for x in range(5)}\n",
    "print(numbers)  # 출력: {0: 0, 1: 1, 2: 2, 3: 3, 4: 4}"
   ]
  },
  {
   "cell_type": "code",
   "execution_count": null,
   "metadata": {},
   "outputs": [],
   "source": [
    "# 키의 제곱을 값으로 가지는 딕셔너리\n",
    "squares = {x: x**2 for x in range(6)}\n",
    "print(squares)  # 출력: {0: 0, 1: 1, 2: 4, 3: 9, 4: 16, 5: 25}"
   ]
  },
  {
   "cell_type": "code",
   "execution_count": null,
   "metadata": {},
   "outputs": [],
   "source": [
    "# 키의 제곱을 값으로 가지는 딕셔너리\n",
    "squares = {x: x**2 for x in range(6)}\n",
    "print(squares)  # 출력: {0: 0, 1: 1, 2: 4, 3: 9, 4: 16, 5: 25}"
   ]
  },
  {
   "cell_type": "code",
   "execution_count": null,
   "metadata": {},
   "outputs": [],
   "source": [
    "# 두 리스트를 사용해 하나는 키, 다른 하나는 값으로 딕셔너리 생성\n",
    "keys = ['name', 'age', 'city']\n",
    "values = ['Alice', 25, 'New York']\n",
    "user_dict = {k: v for k, v in zip(keys, values)}\n",
    "print(user_dict)  # 출력: {'name': 'Alice', 'age': 25, 'city': 'New York'}"
   ]
  },
  {
   "cell_type": "code",
   "execution_count": null,
   "metadata": {},
   "outputs": [],
   "source": [
    "# 문자열에서 각 문자가 등장하는 횟수를 계산\n",
    "string = \"banana\"\n",
    "count_letters = {char: string.count(char) for char in set(string)}\n",
    "print(count_letters)  # 출력: {'b': 1, 'n': 2, 'a': 3}"
   ]
  },
  {
   "cell_type": "markdown",
   "metadata": {},
   "source": [
    "# 함수\n",
    "함수의 정의와 호출, 매개변수와 반환값의 개념 이해"
   ]
  },
  {
   "cell_type": "code",
   "execution_count": null,
   "metadata": {},
   "outputs": [],
   "source": [
    "# 함수 정의\n",
    "def greet(name):\n",
    "    return \"Hello, \" + name + \"!\""
   ]
  },
  {
   "cell_type": "code",
   "execution_count": null,
   "metadata": {},
   "outputs": [],
   "source": [
    "# 함수 호출\n",
    "greet(\"Python\")"
   ]
  },
  {
   "cell_type": "code",
   "execution_count": null,
   "metadata": {},
   "outputs": [],
   "source": [
    "# 튜플을 사용하는 예시 - 함수의 리턴값이 여러 개일 때\n",
    "def my_func():\n",
    "    return 1, 2\n",
    "\n",
    "a, b = my_func()\n",
    "print(a, b)"
   ]
  },
  {
   "cell_type": "code",
   "execution_count": null,
   "metadata": {},
   "outputs": [],
   "source": [
    "a"
   ]
  },
  {
   "cell_type": "code",
   "execution_count": null,
   "metadata": {},
   "outputs": [],
   "source": [
    "b"
   ]
  },
  {
   "cell_type": "code",
   "execution_count": null,
   "metadata": {},
   "outputs": [],
   "source": [
    "# 람다 함수 1\n",
    "add_ten = lambda x: x + 10\n",
    "\n",
    "add_ten(5)"
   ]
  },
  {
   "cell_type": "code",
   "execution_count": null,
   "metadata": {},
   "outputs": [],
   "source": [
    "# 람다 함수 2\n",
    "add_numbers = lambda x, y: x + y\n",
    "\n",
    "add_numbers(1, 2)"
   ]
  },
  {
   "cell_type": "code",
   "execution_count": null,
   "metadata": {},
   "outputs": [],
   "source": [
    "# 람다 함수 3\n",
    "(lambda x, y: x + y)(1, 2)"
   ]
  },
  {
   "cell_type": "markdown",
   "metadata": {},
   "source": [
    "# 클래스와 객체\n",
    "객체지향 프로그래밍의 기본, 클래스와 객체의 개념 이해"
   ]
  },
  {
   "cell_type": "code",
   "execution_count": null,
   "metadata": {},
   "outputs": [],
   "source": [
    "# 클래스 정의\n",
    "class Dog:\n",
    "    def __init__(self, name):\n",
    "        self.name = name\n",
    "\n",
    "    def bark(self):\n",
    "        return \"멍멍!\"\n",
    "    \n",
    "class Cat:\n",
    "    def __init__(self, name):\n",
    "        self.name = name\n",
    "\n",
    "    def mew(self):\n",
    "        return \"야옹!\""
   ]
  },
  {
   "cell_type": "code",
   "execution_count": null,
   "metadata": {},
   "outputs": [],
   "source": [
    "# 객체(인스턴스) 생성\n",
    "dog = Dog(\"멍멍이\")\n",
    "cat = Cat(\"야옹이\")"
   ]
  },
  {
   "cell_type": "code",
   "execution_count": null,
   "metadata": {},
   "outputs": [],
   "source": [
    "# 객체(인스턴스)의 메서드 호출\n",
    "print(dog.bark())\n",
    "print(cat.mew())"
   ]
  },
  {
   "cell_type": "code",
   "execution_count": null,
   "metadata": {},
   "outputs": [],
   "source": [
    "# 객체(인스턴스)의 속성 접근\n",
    "print(dog.name)\n",
    "print(cat.name)"
   ]
  },
  {
   "cell_type": "code",
   "execution_count": null,
   "metadata": {},
   "outputs": [],
   "source": [
    "# 클래스와 객체 예제\n",
    "\n",
    "\n",
    "my_dog = Dog(\"Buddy\")\n",
    "print(my_dog.bark())  # 'Woof!' 출력\n"
   ]
  },
  {
   "cell_type": "markdown",
   "metadata": {},
   "source": [
    "# 모듈과 패키지\n",
    "파이썬에서 모듈과 패키지 사용 방법 이해"
   ]
  },
  {
   "cell_type": "code",
   "execution_count": null,
   "metadata": {},
   "outputs": [],
   "source": [
    "# 모듈 임포트 \n",
    "import math\n",
    "\n",
    "# 제곱근 계산\n",
    "print(math.sqrt(16)) "
   ]
  },
  {
   "cell_type": "markdown",
   "metadata": {},
   "source": [
    "# 연습 문제 1: 사용자 목록 관리\n",
    "\n",
    "사용자 목록이 담긴 리스트가 주어졌을 때, 사용자의 이름, 나이, 그리고 도시 정보를 포함하는 딕셔너리로 이를 변환하고, 특정 조건을 만족하는 사용자만을 필터링하여 새 리스트를 생성하는 프로그램을 작성하세요.\n",
    "\n",
    "users = [\"John,28,New York\", \"Anna,22,Berlin\", \"Peter,34,London\"]\n",
    "\n",
    "  \n",
    "요구 사항:  \n",
    " \n",
    "- 각 사용자 정보는 문자열에서 딕셔너리로 변환해야 합니다. 예: {'Name': 'John', 'Age': 28, 'City': 'New York'}\n",
    "- 나이가 30 미만인 사용자만을 포함하는 새 리스트를 생성하세요.  \n",
    "\n",
    "힌트: 문자열의 split 메소드와 리스트/딕셔너리 컴프리헨션을 사용하세요."
   ]
  },
  {
   "cell_type": "code",
   "execution_count": null,
   "metadata": {},
   "outputs": [],
   "source": []
  },
  {
   "cell_type": "markdown",
   "metadata": {},
   "source": [
    "# 연습 문제 2: 제품 정보와 가격 업데이트\n",
    "\n",
    "제품의 이름과 가격이 담긴 딕셔너리가 주어졌을 때, 주어진 튜플을 사용하여 제품 가격을 업데이트하는 프로그램을 작성하세요.\n",
    "\n",
    "products = {'apple': 1.00, 'banana': 0.50, 'orange': 0.75}  \n",
    "updates = [('apple', 1.20), ('orange', 0.85)]  \n",
    " \n",
    "요구 사항:  \n",
    "\n",
    "- 튜플 리스트 updates에서 제품명과 새 가격을 읽어서, 해당 제품의 가격을 업데이트하세요."
   ]
  },
  {
   "cell_type": "code",
   "execution_count": null,
   "metadata": {},
   "outputs": [],
   "source": []
  },
  {
   "cell_type": "markdown",
   "metadata": {},
   "source": [
    "# 연습문제 3: 1부터 100까지의 수 중에서 짝수만 출력 \n",
    "\n",
    "요구사항:  \n",
    "반복문과 조건문을 함께 사용합니다. "
   ]
  },
  {
   "cell_type": "code",
   "execution_count": null,
   "metadata": {},
   "outputs": [],
   "source": []
  },
  {
   "cell_type": "markdown",
   "metadata": {},
   "source": [
    "# 연습문제 4: 사용자 입력 검증\n",
    "\n",
    "사용자로부터 올바른 나이 입력을 받을 때까지 요청합니다.    \n",
    "사용자가 유효한 나이(0세 이상)를 입력하면 프로그램이 종료됩니다. 만약 사용자가 유효하지 않은 값을 입력하면, 다시 입력을 요청합니다.\n",
    "\n",
    "힌트:  \n",
    "- 사용자 입력을 키보드로 받는 함수 - input() 활용  \n",
    "input(\"나이를 입력해주세요: \")\n",
    "\n",
    "- 문자열을 정수형으로 변환하는 함수 - int() 활용   \n",
    "age = int(input(\"나이를 입력해주세요: \"))  "
   ]
  },
  {
   "cell_type": "code",
   "execution_count": null,
   "metadata": {},
   "outputs": [],
   "source": []
  },
  {
   "cell_type": "markdown",
   "metadata": {},
   "source": [
    "# 연습문제 5: 별 피라미드 출력기\n",
    "사용자로부터 정수 n을 입력받아, n 층의 피라미드를 별(*) 문자로 출력하는 함수를 작성하세요.\n",
    "\n",
    "요구 사항:\n",
    "\n",
    "- 함수의 이름은 print_star_pyramid로 합니다.\n",
    "- 입력받은 정수만큼의 층을 가진 피라미드 형태로 별을 출력합니다.\n",
    "- 각 층의 별의 개수는 해당 층 번호의 두 배에서 1을 뺀 수(홀수)입니다.\n",
    "- 피라미드의 각 층은 중앙 정렬되어야 합니다."
   ]
  },
  {
   "cell_type": "code",
   "execution_count": null,
   "metadata": {},
   "outputs": [],
   "source": []
  }
 ],
 "metadata": {
  "kernelspec": {
   "display_name": "webscraping-langchain-GPb1V3e--py3.11",
   "language": "python",
   "name": "python3"
  },
  "language_info": {
   "codemirror_mode": {
    "name": "ipython",
    "version": 3
   },
   "file_extension": ".py",
   "mimetype": "text/x-python",
   "name": "python",
   "nbconvert_exporter": "python",
   "pygments_lexer": "ipython3",
   "version": "3.11.5"
  }
 },
 "nbformat": 4,
 "nbformat_minor": 2
}
