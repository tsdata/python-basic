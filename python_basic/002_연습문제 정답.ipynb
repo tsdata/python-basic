{
 "cells": [
  {
   "cell_type": "markdown",
   "metadata": {},
   "source": [
    "# 연습 문제 1: 사용자 목록 관리\n",
    "\n",
    "사용자 목록이 담긴 리스트가 주어졌을 때, 사용자의 이름, 나이, 그리고 도시 정보를 포함하는 딕셔너리로 이를 변환하고, 특정 조건을 만족하는 사용자만을 필터링하여 새 리스트를 생성하는 프로그램을 작성하세요.\n",
    "\n",
    "users = [\"John,28,New York\", \"Anna,22,Berlin\", \"Peter,34,London\"]\n",
    "\n",
    "  \n",
    "요구 사항:  \n",
    " \n",
    "- 각 사용자 정보는 문자열에서 딕셔너리로 변환해야 합니다. 예: {'Name': 'John', 'Age': 28, 'City': 'New York'}\n",
    "- 나이가 30 미만인 사용자만을 포함하는 새 리스트를 생성하세요.  \n",
    "\n",
    "힌트: 문자열의 split 메소드와 리스트/딕셔너리 컴프리헨션을 사용하세요."
   ]
  },
  {
   "cell_type": "code",
   "execution_count": null,
   "metadata": {},
   "outputs": [],
   "source": [
    "# 풀이\n",
    "\n",
    "users = [\"John,28,New York\", \"Anna,22,Berlin\", \"Peter,34,London\"]\n",
    "\n",
    "# 각 사용자 정보를 딕셔너리로 변환하고, 나이가 30 미만인 사용자만을 필터링하여 새 리스트 생성\n",
    "filtered_users = [\n",
    "    {\"Name\": user_info[0], \"Age\": int(user_info[1]), \"City\": user_info[2]}\n",
    "    for user_info in (user.split(',') for user in users)\n",
    "    if int(user_info[1]) < 30\n",
    "]\n",
    "\n",
    "filtered_users\n"
   ]
  },
  {
   "cell_type": "markdown",
   "metadata": {},
   "source": [
    "# 연습 문제 2: 제품 정보와 가격 업데이트\n",
    "\n",
    "제품의 이름과 가격이 담긴 딕셔너리가 주어졌을 때, 주어진 튜플을 사용하여 제품 가격을 업데이트하는 프로그램을 작성하세요.\n",
    "\n",
    "products = {'apple': 1.00, 'banana': 0.50, 'orange': 0.75}  \n",
    "updates = [('apple', 1.20), ('orange', 0.85)]  \n",
    " \n",
    "요구 사항:  \n",
    "\n",
    "- 튜플 리스트 updates에서 제품명과 새 가격을 읽어서, 해당 제품의 가격을 업데이트하세요."
   ]
  },
  {
   "cell_type": "code",
   "execution_count": null,
   "metadata": {},
   "outputs": [],
   "source": [
    "# 풀이\n",
    "products = {'apple': 1.00, 'banana': 0.50, 'orange': 0.75}\n",
    "updates = [('apple', 1.20), ('orange', 0.85)]\n",
    "\n",
    "for product, new_price in updates:\n",
    "    if product in products:\n",
    "        products[product] = new_price\n",
    "\n",
    "print(products)  # 출력 예: {'apple': 1.20, 'banana': 0.50, 'orange': 0.85}"
   ]
  },
  {
   "cell_type": "markdown",
   "metadata": {},
   "source": [
    "# 연습문제 3: 1부터 100까지의 수 중에서 짝수만 출력 \n",
    "\n",
    "요구사항:  \n",
    "반복문과 조건문을 함께 사용합니다. "
   ]
  },
  {
   "cell_type": "code",
   "execution_count": null,
   "metadata": {},
   "outputs": [],
   "source": [
    "# 풀이\n",
    "\n",
    "# 1부터 100까지 반복\n",
    "for number in range(1, 101):\n",
    "    # 조건문을 사용하여 짝수인 경우만 출력\n",
    "    if number % 2 == 0:\n",
    "        print(number)"
   ]
  },
  {
   "cell_type": "markdown",
   "metadata": {},
   "source": [
    "# 연습문제 4: 사용자 입력 검증\n",
    "\n",
    "사용자로부터 올바른 나이 입력을 받을 때까지 요청합니다.    \n",
    "사용자가 유효한 나이(0세 이상)를 입력하면 프로그램이 종료됩니다. 만약 사용자가 유효하지 않은 값을 입력하면, 다시 입력을 요청합니다.\n",
    "\n",
    "힌트:  \n",
    "- 사용자 입력을 키보드로 받는 함수 - input() 활용  \n",
    "input(\"나이를 입력해주세요: \")\n",
    "\n",
    "- 문자열을 정수형으로 변환하는 함수 - int() 활용   \n",
    "age = int(input(\"나이를 입력해주세요: \"))  "
   ]
  },
  {
   "cell_type": "code",
   "execution_count": null,
   "metadata": {},
   "outputs": [],
   "source": [
    "# 사용자로부터 나이 입력 받기\n",
    "age = -1  # 초기 조건 설정, while 루프 진입을 위해 유효하지 않은 값으로 설정\n",
    "\n",
    "# 유효한 나이 입력을 받을 때까지 반복\n",
    "while age < 0:\n",
    "    try:\n",
    "        age = int(input(\"나이를 입력해주세요: \"))  # 사용자로부터 나이 입력 받기\n",
    "        if age < 0:\n",
    "            print(\"나이는 음수가 될 수 없습니다. 유효한 나이를 입력해주세요.\")\n",
    "    except ValueError:\n",
    "        print(\"잘못된 입력입니다. 숫자를 입력해주세요.\")\n",
    "        age = -1  # 입력 오류 발생 시, 반복을 계속하기 위해 유효하지 않은 값으로 재설정\n",
    "\n",
    "print(f\"감사합니다. 당신의 나이는 {age}세 입니다.\")  # 유효한 입력 받은 후 메시지 출력"
   ]
  },
  {
   "cell_type": "markdown",
   "metadata": {},
   "source": [
    "# 연습문제 5: 별 피라미드 출력기\n",
    "사용자로부터 정수 n을 입력받아, n 층의 피라미드를 별(*) 문자로 출력하는 함수를 작성하세요.\n",
    "\n",
    "요구 사항:\n",
    "\n",
    "- 함수의 이름은 print_star_pyramid로 합니다.\n",
    "- 입력받은 정수만큼의 층을 가진 피라미드 형태로 별을 출력합니다.\n",
    "- 각 층의 별의 개수는 해당 층 번호의 두 배에서 1을 뺀 수(홀수)입니다.\n",
    "- 피라미드의 각 층은 중앙 정렬되어야 합니다."
   ]
  },
  {
   "cell_type": "code",
   "execution_count": null,
   "metadata": {},
   "outputs": [],
   "source": [
    "def print_star_pyramid(n):\n",
    "    for i in range(1, n + 1):\n",
    "        # 각 층에 출력할 별의 개수 계산\n",
    "        stars = '*' * (2 * i - 1)\n",
    "        # 별을 중앙 정렬하기 위한 공백 계산\n",
    "        spaces = ' ' * (n - i)\n",
    "        # 중앙 정렬된 별 출력\n",
    "        print(spaces + stars + spaces)\n",
    "\n",
    "# 함수 사용 예시\n",
    "n = int(input(\"피라미드의 높이를 입력하세요: \"))\n",
    "print_star_pyramid(n)"
   ]
  }
 ],
 "metadata": {
  "kernelspec": {
   "display_name": "webscraping-langchain-GPb1V3e--py3.11",
   "language": "python",
   "name": "python3"
  },
  "language_info": {
   "codemirror_mode": {
    "name": "ipython",
    "version": 3
   },
   "file_extension": ".py",
   "mimetype": "text/x-python",
   "name": "python",
   "nbconvert_exporter": "python",
   "pygments_lexer": "ipython3",
   "version": "3.11.5"
  }
 },
 "nbformat": 4,
 "nbformat_minor": 2
}
